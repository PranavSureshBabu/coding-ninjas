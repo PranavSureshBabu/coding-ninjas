{
 "cells": [
  {
   "cell_type": "code",
   "execution_count": 3,
   "metadata": {},
   "outputs": [],
   "source": [
    "import pandas as pd\n",
    "import matplotlib.pyplot as plt\n",
    "import numpy as np"
   ]
  },
  {
   "cell_type": "code",
   "execution_count": 4,
   "metadata": {},
   "outputs": [
    {
     "data": {
      "text/html": [
       "<div>\n",
       "<style scoped>\n",
       "    .dataframe tbody tr th:only-of-type {\n",
       "        vertical-align: middle;\n",
       "    }\n",
       "\n",
       "    .dataframe tbody tr th {\n",
       "        vertical-align: top;\n",
       "    }\n",
       "\n",
       "    .dataframe thead th {\n",
       "        text-align: right;\n",
       "    }\n",
       "</style>\n",
       "<table border=\"1\" class=\"dataframe\">\n",
       "  <thead>\n",
       "    <tr style=\"text-align: right;\">\n",
       "      <th></th>\n",
       "      <th>SNo</th>\n",
       "      <th>Date</th>\n",
       "      <th>StartupName</th>\n",
       "      <th>IndustryVertical</th>\n",
       "      <th>SubVertical</th>\n",
       "      <th>CityLocation</th>\n",
       "      <th>InvestorsName</th>\n",
       "      <th>InvestmentType</th>\n",
       "      <th>AmountInUSD</th>\n",
       "      <th>Remarks</th>\n",
       "    </tr>\n",
       "  </thead>\n",
       "  <tbody>\n",
       "    <tr>\n",
       "      <td>0</td>\n",
       "      <td>0</td>\n",
       "      <td>01/08/2017</td>\n",
       "      <td>TouchKin</td>\n",
       "      <td>Technology</td>\n",
       "      <td>Predictive Care Platform</td>\n",
       "      <td>Bangalore</td>\n",
       "      <td>Kae Capital</td>\n",
       "      <td>Private Equity</td>\n",
       "      <td>1,300,000</td>\n",
       "      <td>NaN</td>\n",
       "    </tr>\n",
       "    <tr>\n",
       "      <td>1</td>\n",
       "      <td>1</td>\n",
       "      <td>02/08/2017</td>\n",
       "      <td>Ethinos</td>\n",
       "      <td>Technology</td>\n",
       "      <td>Digital Marketing Agency</td>\n",
       "      <td>Mumbai</td>\n",
       "      <td>Triton Investment Advisors</td>\n",
       "      <td>Private Equity</td>\n",
       "      <td>NaN</td>\n",
       "      <td>NaN</td>\n",
       "    </tr>\n",
       "    <tr>\n",
       "      <td>2</td>\n",
       "      <td>2</td>\n",
       "      <td>02/08/2017</td>\n",
       "      <td>Leverage Edu</td>\n",
       "      <td>Consumer Internet</td>\n",
       "      <td>Online platform for Higher Education Services</td>\n",
       "      <td>New Delhi</td>\n",
       "      <td>Kashyap Deorah, Anand Sankeshwar, Deepak Jain,...</td>\n",
       "      <td>Seed Funding</td>\n",
       "      <td>NaN</td>\n",
       "      <td>NaN</td>\n",
       "    </tr>\n",
       "    <tr>\n",
       "      <td>3</td>\n",
       "      <td>3</td>\n",
       "      <td>02/08/2017</td>\n",
       "      <td>Zepo</td>\n",
       "      <td>Consumer Internet</td>\n",
       "      <td>DIY Ecommerce platform</td>\n",
       "      <td>Mumbai</td>\n",
       "      <td>Kunal Shah, LetsVenture, Anupam Mittal, Hetal ...</td>\n",
       "      <td>Seed Funding</td>\n",
       "      <td>500,000</td>\n",
       "      <td>NaN</td>\n",
       "    </tr>\n",
       "    <tr>\n",
       "      <td>4</td>\n",
       "      <td>4</td>\n",
       "      <td>02/08/2017</td>\n",
       "      <td>Click2Clinic</td>\n",
       "      <td>Consumer Internet</td>\n",
       "      <td>healthcare service aggregator</td>\n",
       "      <td>Hyderabad</td>\n",
       "      <td>Narottam Thudi, Shireesh Palle</td>\n",
       "      <td>Seed Funding</td>\n",
       "      <td>850,000</td>\n",
       "      <td>NaN</td>\n",
       "    </tr>\n",
       "  </tbody>\n",
       "</table>\n",
       "</div>"
      ],
      "text/plain": [
       "   SNo        Date   StartupName   IndustryVertical  \\\n",
       "0    0  01/08/2017      TouchKin         Technology   \n",
       "1    1  02/08/2017       Ethinos         Technology   \n",
       "2    2  02/08/2017  Leverage Edu  Consumer Internet   \n",
       "3    3  02/08/2017          Zepo  Consumer Internet   \n",
       "4    4  02/08/2017  Click2Clinic  Consumer Internet   \n",
       "\n",
       "                                     SubVertical CityLocation  \\\n",
       "0                       Predictive Care Platform    Bangalore   \n",
       "1                       Digital Marketing Agency       Mumbai   \n",
       "2  Online platform for Higher Education Services    New Delhi   \n",
       "3                         DIY Ecommerce platform       Mumbai   \n",
       "4                  healthcare service aggregator    Hyderabad   \n",
       "\n",
       "                                       InvestorsName  InvestmentType  \\\n",
       "0                                        Kae Capital  Private Equity   \n",
       "1                         Triton Investment Advisors  Private Equity   \n",
       "2  Kashyap Deorah, Anand Sankeshwar, Deepak Jain,...    Seed Funding   \n",
       "3  Kunal Shah, LetsVenture, Anupam Mittal, Hetal ...    Seed Funding   \n",
       "4                     Narottam Thudi, Shireesh Palle    Seed Funding   \n",
       "\n",
       "  AmountInUSD Remarks  \n",
       "0   1,300,000     NaN  \n",
       "1         NaN     NaN  \n",
       "2         NaN     NaN  \n",
       "3     500,000     NaN  \n",
       "4     850,000     NaN  "
      ]
     },
     "execution_count": 4,
     "metadata": {},
     "output_type": "execute_result"
    }
   ],
   "source": [
    "df_date = pd.read_csv('startup_funding.csv')\n",
    "df_date.head()"
   ]
  },
  {
   "cell_type": "code",
   "execution_count": 28,
   "metadata": {},
   "outputs": [
    {
     "name": "stdout",
     "output_type": "stream",
     "text": [
      "01/08/2017\n",
      "02/08/2017\n",
      "02/08/2017\n",
      "02/08/2017\n",
      "02/08/2017\n"
     ]
    }
   ],
   "source": [
    "yearfund = {}\n",
    "for i in df_date['Date'][:5]:\n",
    "    print(i)"
   ]
  },
  {
   "cell_type": "markdown",
   "metadata": {},
   "source": [
    "# Number of fundings"
   ]
  },
  {
   "cell_type": "code",
   "execution_count": 5,
   "metadata": {},
   "outputs": [
    {
     "name": "stdout",
     "output_type": "stream",
     "text": [
      "2015 936\n",
      "2016 993\n",
      "2017 443\n"
     ]
    }
   ],
   "source": [
    "yearfund = {}\n",
    "for i in df_date['Date']:\n",
    "   \n",
    "    year = i[-4:]\n",
    "    if yearfund.get(year):\n",
    "        yearfund[year] = yearfund[year] + 1\n",
    "    else:\n",
    "        yearfund[year] = 1\n",
    "list = []\n",
    "for i in yearfund:\n",
    "    list.append(i)\n",
    "list.sort()\n",
    "for i in list:\n",
    "    print(i, yearfund.get(i))\n",
    "    "
   ]
  },
  {
   "cell_type": "markdown",
   "metadata": {},
   "source": [
    "# Top indian cities"
   ]
  },
  {
   "cell_type": "code",
   "execution_count": 6,
   "metadata": {},
   "outputs": [
    {
     "data": {
      "image/png": "[encoded data removed]",
      "text/plain": [
       "<Figure size 432x288 with 1 Axes>"
      ]
     },
     "metadata": {},
     "output_type": "display_data"
    },
    {
     "name": "stdout",
     "output_type": "stream",
     "text": [
      "Bangalore 635\n",
      "Mumbai 449\n",
      "New Delhi 389\n",
      "Gurgaon 241\n",
      "Pune 91\n",
      "Noida 79\n",
      "Hyderabad 77\n",
      "Chennai 67\n",
      "Ahmedabad 35\n",
      "Jaipur 25\n"
     ]
    }
   ],
   "source": [
    "def get_city(location):\n",
    "    location = str(location)\n",
    "    if '/' in location:\n",
    "        loc = location.split('/')\n",
    "        location = loc[0]\n",
    "    return location.strip()\n",
    "df_indian = pd.read_csv('startup_funding.csv')\n",
    "df_indian.sample(15)\n",
    "df_indian['CityLocation'] = df_indian['CityLocation'].apply(get_city)\n",
    "df_indian['CityLocation'] = df_indian['CityLocation'].replace('Delhi', 'New Delhi')\n",
    "df_indian['CityLocation'] = df_indian['CityLocation'].replace('bangalore', 'Bangalore')\n",
    "df_indian['CityLocation'] = df_indian['CityLocation'].replace('nan', np.nan)\n",
    "startup_count = df_indian.groupby('CityLocation').count()['StartupName']\n",
    "x = startup_count.sort_values(ascending = False).dropna().head(10)\n",
    "plt.pie(x.values, labels = x.index, autopct = '%.2f%%')\n",
    "plt.show()\n",
    "for i in range(x.shape[0]):\n",
    "    print(x.index[i], x.values[i])"
   ]
  },
  {
   "cell_type": "markdown",
   "metadata": {},
   "source": [
    "# Funding amount"
   ]
  },
  {
   "cell_type": "code",
   "execution_count": 7,
   "metadata": {},
   "outputs": [
    {
     "name": "stdout",
     "output_type": "stream",
     "text": [
      "Bangalore 49.71\n",
      "New Delhi 16.63\n",
      "Mumbai 13.90\n",
      "Gurgaon 12.21\n",
      "Chennai 2.43\n",
      "Pune 2.16\n",
      "Hyderabad 1.15\n",
      "Noida 1.01\n",
      "Ahmedabad 0.58\n",
      "Jaipur 0.21\n"
     ]
    }
   ],
   "source": [
    "def get_city(location):\n",
    "    location = str(location)\n",
    "    if '/' in location:\n",
    "        loc = location.split('/')\n",
    "        location = loc[0]\n",
    "    return location.strip()\n",
    "def remove_comma(val):\n",
    "    if type(val) != int:\n",
    "        val = float(str(val).replace(',', ''))\n",
    "    return val\n",
    "\n",
    "df_indian = pd.read_csv('startup_funding.csv')\n",
    "df_indian.sample(15)\n",
    "df_indian['CityLocation'] = df_indian['CityLocation'].apply(get_city)\n",
    "df_indian['CityLocation'] = df_indian['CityLocation'].replace('Delhi', 'New Delhi')\n",
    "df_indian['CityLocation'] = df_indian['CityLocation'].replace('bangalore', 'Bangalore')\n",
    "df_indian['CityLocation'] = df_indian['CityLocation'].replace('nan', np.nan)\n",
    "df_indian['AmountInUSD'] = df_indian['AmountInUSD'].apply(remove_comma)\n",
    "startup_funds = df_indian[['CityLocation','AmountInUSD']].groupby('CityLocation').sum().dropna()\n",
    "x = startup_funds.sort_values(ascending = False, by = 'AmountInUSD').head(10)\n",
    "pct_list = [round(i/sum(x['AmountInUSD']) *100, 2) for i in x['AmountInUSD']]\n",
    "for i in range(x.shape[0]):\n",
    "    print(x.index[i], format(pct_list[i], '.2f'))"
   ]
  },
  {
   "cell_type": "markdown",
   "metadata": {},
   "source": [
    "# Investment type"
   ]
  },
  {
   "cell_type": "code",
   "execution_count": 8,
   "metadata": {},
   "outputs": [
    {
     "name": "stdout",
     "output_type": "stream",
     "text": [
      "Private Equity 98.15\n",
      "Seed Funding 1.81\n",
      "Debt Funding 0.04\n",
      "Crowd Funding 0.00\n"
     ]
    },
    {
     "name": "stderr",
     "output_type": "stream",
     "text": [
      "C:\\Users\\Pranav\\Anaconda3\\lib\\site-packages\\ipykernel_launcher.py:21: MatplotlibDeprecationWarning: Non-1D inputs to pie() are currently squeeze()d, but this behavior is deprecated since 3.1 and will be removed in 3.3; pass a 1D array instead.\n"
     ]
    },
    {
     "data": {
      "image/png": "[encoded data removed]",
      "text/plain": [
       "<Figure size 432x288 with 1 Axes>"
      ]
     },
     "metadata": {},
     "output_type": "display_data"
    }
   ],
   "source": [
    "import pandas as pd\n",
    "import matplotlib.pyplot as plt\n",
    "import numpy as np\n",
    "df_investment = pd.read_csv('startup_funding.csv')\n",
    "\n",
    "def remove_comma(val):\n",
    "    if type(val) != int:\n",
    "        val = float(str(val).replace(',', ''))\n",
    "        return val\n",
    "\n",
    "df_investment['AmountInUSD'] = df_investment['AmountInUSD'].apply(remove_comma)\n",
    "df_investment['InvestmentType'] = df_investment['InvestmentType'].replace('SeedFunding', 'Seed Funding')\n",
    "df_investment['InvestmentType'] = df_investment['InvestmentType'].replace('PrivateEquity', 'Private Equity')\n",
    "df_investment['InvestmentType'] = df_investment['InvestmentType'].replace('Crowd funding', 'Crowd Funding')\n",
    "df_investment['InvestmentType'] = df_investment['InvestmentType'].replace('nan', np.nan)\n",
    "investmentfunds = df_investment[['InvestmentType', 'AmountInUSD']].groupby('InvestmentType').sum().dropna()\n",
    "x = investmentfunds.sort_values(ascending = False, by = 'AmountInUSD')\n",
    "pct_list = [round(i/sum(x['AmountInUSD']) *100, 2) for i in x['AmountInUSD']]\n",
    "for i in range(x.shape[0]):\n",
    "    print(x.index[i], format(pct_list[i], '.2f'))\n",
    "plt.pie(x.values, labels = x.index, autopct = '%.2f%%')\n",
    "plt.show()"
   ]
  },
  {
   "cell_type": "markdown",
   "metadata": {},
   "source": [
    "# Top industries"
   ]
  },
  {
   "cell_type": "code",
   "execution_count": 2,
   "metadata": {},
   "outputs": [
    {
     "name": "stderr",
     "output_type": "stream",
     "text": [
      "C:\\Users\\Pranav\\Anaconda3\\lib\\site-packages\\pandas\\core\\indexing.py:205: SettingWithCopyWarning: \n",
      "A value is trying to be set on a copy of a slice from a DataFrame\n",
      "\n",
      "See the caveats in the documentation: http://pandas.pydata.org/pandas-docs/stable/user_guide/indexing.html#returning-a-view-versus-a-copy\n",
      "  self._setitem_with_indexer(indexer, value)\n"
     ]
    },
    {
     "data": {
      "image/png": "[encoded data removed]",
      "text/plain": [
       "<Figure size 1080x720 with 1 Axes>"
      ]
     },
     "metadata": {
      "needs_background": "light"
     },
     "output_type": "display_data"
    },
    {
     "name": "stdout",
     "output_type": "stream",
     "text": [
      "Ecommerce 40.53\n",
      "Consumer Internet 35.95\n",
      "Technology 10.45\n",
      "Online Marketplace 6.63\n",
      "E-Commerce & M-Commerce platform 6.44\n"
     ]
    }
   ],
   "source": [
    "import pandas as pd\n",
    "import numpy as np\n",
    "import matplotlib.pyplot as plt\n",
    "\n",
    "\n",
    "\n",
    "df=pd.read_csv('startup_funding.csv')\n",
    "#df=data.copy()\n",
    "df.AmountInUSD.loc[df['AmountInUSD'].isnull()]='0'\n",
    "df.drop(df['SNo'].loc[df.IndustryVertical.isnull()], inplace=True)\n",
    "\n",
    "np_industry=np.array(df.IndustryVertical)\n",
    "np_amount=np.array(df.AmountInUSD)\n",
    "np_industry[np_industry=='eCommerce']='Ecommerce'\n",
    "np_industry[np_industry=='ECommerce']='Ecommerce'\n",
    "np_industry[np_industry=='ecommerce']='Ecommerce'\n",
    "\n",
    "for i in range(len(np_amount)):\n",
    "    np_amount[i]=''.join(np_amount[i].split(','))\n",
    "np_amount=np.array(np_amount, dtype='int64')\n",
    "\n",
    "dic=dict()\n",
    "for i in range(len(np_amount)):\n",
    "    if np_industry[i] in dic.keys():\n",
    "        dic[np_industry[i]]+=np_amount[i]\n",
    "    else:\n",
    "        dic[np_industry[i]]=np_amount[i]\n",
    "xaxis=[]\n",
    "yaxis=[]\n",
    "\n",
    "for i in dic.keys():\n",
    "    xaxis.append(i)\n",
    "    yaxis.append(dic[i])\n",
    "np_xaxis=np.array(xaxis)\n",
    "np_yaxis=np.array(yaxis)\n",
    "\n",
    "np_xaxis=np_xaxis[np.argsort(np_yaxis)]\n",
    "np_yaxis=np.sort(np_yaxis)\n",
    "\n",
    "np_xaxis=np_xaxis[len(np_xaxis)-1:len(np_xaxis)-1-5:-1]\n",
    "np_yaxis=np_yaxis[len(np_yaxis)-1:len(np_yaxis)-1-5:-1]\n",
    "\n",
    "plt.subplots(figsize=(15, 10))\n",
    "plt.bar(np_xaxis, np_yaxis, color='yellow')\n",
    "plt.xticks(rotation=45, size=16)\n",
    "plt.xlabel('Industries--->', size=16)\n",
    "plt.ylabel('Amount Funded--->', size=16)\n",
    "plt.yticks(size=16)\n",
    "plt.show()\n",
    "\n",
    "for i in range(len(np_xaxis)):\n",
    "    print(np_xaxis[i], format((np_yaxis[i]*100)/sum(np_yaxis) , '.2f'))"
   ]
  },
  {
   "cell_type": "markdown",
   "metadata": {},
   "source": [
    "# Top startups"
   ]
  },
  {
   "cell_type": "code",
   "execution_count": 3,
   "metadata": {},
   "outputs": [
    {
     "name": "stdout",
     "output_type": "stream",
     "text": [
      "Paytm\n",
      "Flipkart\n",
      "Ola\n",
      "Snapdeal\n",
      "Oyo\n"
     ]
    }
   ],
   "source": [
    "import matplotlib.pyplot as plt\n",
    "import numpy as np\n",
    "import pandas as pd\n",
    " \n",
    "def checkSpell(String):\n",
    "    newStr = String.replace(' ','').lower()\n",
    "    if newStr == 'ola' or newStr == 'olacabs':\n",
    "        String = 'Ola'\n",
    "    elif newStr == 'flipkart' or newStr == 'flipkart.com':\n",
    "        String = 'Flipkart'\n",
    "    elif newStr == 'oyo' or newStr == 'oyorooms' or newStr=='oyoroom' or newStr=='oyofit':\n",
    "        String = 'Oyo'\n",
    "    elif newStr == 'paytm' or newStr == 'paytmmarketplace':\n",
    "        String = 'Paytm'\n",
    "    return String\n",
    "    \n",
    "    \n",
    "def str2int(string):\n",
    "    return int(string.replace(',',''))\n",
    " \n",
    " \n",
    "data = pd.read_csv('startup_funding.csv')\n",
    "df   = data.copy()\n",
    " \n",
    "# Handle NaN and convert String to Number\n",
    "df['StartupName'].fillna('blank',inplace=True)\n",
    "df['StartupName'] = df['StartupName'].apply(checkSpell)\n",
    "df.AmountInUSD.fillna(\"0\",inplace=True)\n",
    "df['AmountInUSD'] = df.AmountInUSD.apply(str2int)\n",
    " \n",
    "groupcols = df[df['StartupName'] !='blank'].groupby(['StartupName'])['AmountInUSD'].sum()\n",
    "groupcols = groupcols.sort_values()\n",
    " \n",
    "for startup in groupcols.keys()[-1::-1][:5]:\n",
    "    print(startup)"
   ]
  },
  {
   "cell_type": "markdown",
   "metadata": {},
   "source": [
    "# Funding rounds"
   ]
  },
  {
   "cell_type": "code",
   "execution_count": 18,
   "metadata": {},
   "outputs": [
    {
     "name": "stdout",
     "output_type": "stream",
     "text": [
      "Ola 9\n",
      "Swiggy 7\n",
      "UrbanClap 6\n",
      "Paytm 6\n",
      "Oyo 6\n"
     ]
    }
   ],
   "source": [
    "import matplotlib.pyplot as plt\n",
    "import numpy as np\n",
    "import pandas as pd\n",
    " \n",
    "def checkSpell(String):\n",
    "    newStr = String.replace(' ','').lower()\n",
    "    if newStr == 'ola' or newStr == 'olacabs':\n",
    "        String = 'Ola'\n",
    "    elif newStr == 'flipkart' or newStr == 'flipkart.com':\n",
    "        String = 'Flipkart'\n",
    "    elif newStr == 'oyo' or newStr == 'oyorooms' or newStr=='oyoroom':\n",
    "        String = 'Oyo'\n",
    "    elif newStr == 'paytm' or newStr == 'paytmmarketplace':\n",
    "        String = 'Paytm'\n",
    "    return String\n",
    "    \n",
    "def remove_comma(val):\n",
    "    if type(val) != int:\n",
    "        val = float(str(val).replace(',', ''))\n",
    "        return val    \n",
    "\n",
    " \n",
    " \n",
    "topfundings = pd.read_csv('startup_funding.csv')\n",
    "\n",
    " \n",
    "# Handle NaN and convert String to Number\n",
    "topfundings['StartupName'].fillna('blank',inplace=True)\n",
    "topfundings['StartupName'] = topfundings['StartupName'].apply(checkSpell)\n",
    "groupcols = topfundings.StartupName.value_counts() \n",
    "for startup in groupcols.keys()[:5]:\n",
    "    print(startup,groupcols[startup])"
   ]
  },
  {
   "cell_type": "markdown",
   "metadata": {},
   "source": [
    "# Top investor"
   ]
  },
  {
   "cell_type": "code",
   "execution_count": 1,
   "metadata": {},
   "outputs": [
    {
     "name": "stdout",
     "output_type": "stream",
     "text": [
      "Sequoia Capital 64\n"
     ]
    }
   ],
   "source": [
    "import pandas as pd\n",
    "import numpy as np\n",
    "import matplotlib.pyplot as plt\n",
    "\n",
    "df = pd.read_csv(\"startup_funding.csv\")\n",
    "\n",
    "df.InvestorsName.fillna(\"None\", inplace=True)\n",
    "# df.InvestorsName.unique()\n",
    "\n",
    "investors = np.array(df.InvestorsName)\n",
    "\n",
    "final = {}\n",
    "for i in investors:\n",
    "    key = i.split(\",\")\n",
    "\n",
    "    for i in range(len(key)):\n",
    "        key[i] = key[i].strip()\n",
    "        if key[i] != \"None\" and key[i] != \"\":\n",
    "            final[key[i]] = final.get(key[i], 0) + 1\n",
    "\n",
    "final = dict(sorted(final.items(), key=lambda item: item[1], reverse=True))\n",
    "# print(final)\n",
    "\n",
    "for key, value in final.items():\n",
    "    print(key, value)\n",
    "    break"
   ]
  },
  {
   "cell_type": "code",
   "execution_count": null,
   "metadata": {},
   "outputs": [],
   "source": []
  }
 ],
 "metadata": {
  "kernelspec": {
   "display_name": "Python 3",
   "language": "python",
   "name": "python3"
  },
  "language_info": {
   "codemirror_mode": {
    "name": "ipython",
    "version": 3
   },
   "file_extension": ".py",
   "mimetype": "text/x-python",
   "name": "python",
   "nbconvert_exporter": "python",
   "pygments_lexer": "ipython3",
   "version": "3.7.4"
  }
 },
 "nbformat": 4,
 "nbformat_minor": 2
}
