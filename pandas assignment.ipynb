{
 "cells": [
  {
   "cell_type": "markdown",
   "metadata": {},
   "source": [
    "# terrorism data"
   ]
  },
  {
   "cell_type": "code",
   "execution_count": 25,
   "metadata": {},
   "outputs": [
    {
     "name": "stdout",
     "output_type": "stream",
     "text": [
      "Srinagar 657 Muslim Separatists\n"
     ]
    }
   ],
   "source": [
    "import pandas as pd\n",
    "df = pd.read_csv('terrorismData.csv')\n",
    "df1 =df[df['State']== 'Jammu and Kashmir']\n",
    "city = df1['City'].value_counts()\n",
    "\n",
    "city_group = df1[(df1.City == city_name) & (df1.Group != 'Unknown')]\n",
    "group_attack = city_group['Group'].value_counts()\n",
    "print(city_name, city_attacks, group_attack.keys()[0])"
   ]
  },
  {
   "cell_type": "markdown",
   "metadata": {},
   "source": [
    "# terror attack"
   ]
  },
  {
   "cell_type": "code",
   "execution_count": 37,
   "metadata": {},
   "outputs": [
    {
     "name": "stdout",
     "output_type": "stream",
     "text": [
      "Iraq 24636 2014\n"
     ]
    }
   ],
   "source": [
    "import pandas as pd\n",
    "terData = pd.read_csv('terrorismData.csv')\n",
    "df = terData.copy()\n",
    "country_group = df['Country'].value_counts()\n",
    "country_name  = country_group.keys()[0]\n",
    "country_attacks = country_group[0]\n",
    "country_df = df[(df.Country == country_name)]\n",
    "year_group = country_df['Year'].value_counts()\n",
    "print(country_name, country_attacks , year_group.keys()[0])"
   ]
  },
  {
   "cell_type": "markdown",
   "metadata": {},
   "source": [
    "# Deadliest attack"
   ]
  },
  {
   "cell_type": "code",
   "execution_count": 50,
   "metadata": {},
   "outputs": [
    {
     "name": "stdout",
     "output_type": "stream",
     "text": [
      "1570 Iraq Islamic State of Iraq and the Levant (ISIL)\n"
     ]
    }
   ],
   "source": [
    "import pandas as pd\n",
    "df = pd.read_csv('terrorismData.csv')\n",
    "max = df.Killed.idxmax()\n",
    "print(int(df.Killed[max]),df.Country[max], df.Group[max])"
   ]
  },
  {
   "cell_type": "code",
   "execution_count": null,
   "metadata": {},
   "outputs": [],
   "source": []
  }
 ],
 "metadata": {
  "kernelspec": {
   "display_name": "Python 3",
   "language": "python",
   "name": "python3"
  },
  "language_info": {
   "codemirror_mode": {
    "name": "ipython",
    "version": 3
   },
   "file_extension": ".py",
   "mimetype": "text/x-python",
   "name": "python",
   "nbconvert_exporter": "python",
   "pygments_lexer": "ipython3",
   "version": "3.7.4"
  }
 },
 "nbformat": 4,
 "nbformat_minor": 2
}
