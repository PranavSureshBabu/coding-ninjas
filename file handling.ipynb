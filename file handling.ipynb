{
 "cells": [
  {
   "cell_type": "markdown",
   "metadata": {},
   "source": [
    "# printing first 3 rows of a column excluding header"
   ]
  },
  {
   "cell_type": "code",
   "execution_count": 84,
   "metadata": {},
   "outputs": [
    {
     "name": "stdout",
     "output_type": "stream",
     "text": [
      "2017 1 2 Afghanistan South Asia Takhta Pul 31.320556 65.961111 Hostage Taking (Kidnapping) 0.0 0.0 Construction Workers Taliban Business Firearms 0.0 \n",
      "2017 1 3 Sudan Sub-Saharan Africa Fantaga 12.921007000000001 24.318324 Armed Assault 2.0 0.0 Civilians: Haroun Yousif, Hamid Ibrahim Unknown Private Citizens & Property Firearms 2.0 \n",
      "2017 1 1 Democratic Republic of the Congo Sub-Saharan Africa Saboko 1.452372 29.875162 Armed Assault 7.0 0.0 Village Allied Democratic Forces (ADF) Private Citizens & Property Melee 7.0 \n"
     ]
    }
   ],
   "source": [
    "import csv\n",
    "with open(\"year2017.csv\") as file_obj:\n",
    "    file_data = csv.reader(file_obj)\n",
    "    data_list = list(file_data)\n",
    "    \n",
    "    for i in range(1,4):\n",
    "        for j in range(len(data_list[i])):\n",
    "            print(data_list[i][j], end= ' ')\n",
    "        print()"
   ]
  },
  {
   "cell_type": "markdown",
   "metadata": {},
   "source": [
    "# To print only columns line by line"
   ]
  },
  {
   "cell_type": "code",
   "execution_count": 39,
   "metadata": {},
   "outputs": [
    {
     "name": "stdout",
     "output_type": "stream",
     "text": [
      "Year\n",
      "Month\n",
      "Day\n",
      "Country\n",
      "Region\n",
      "city\n",
      "latitude\n",
      "longitude\n",
      "AttackType\n",
      "Killed\n",
      "Wounded\n",
      "Target\n",
      "Group\n",
      "Target_type\n",
      "Weapon_type\n",
      "casualities\n"
     ]
    }
   ],
   "source": [
    "import csv\n",
    "with open(\"year2017.csv\") as file_obj:\n",
    "    file_data = csv.reader(file_obj)\n",
    "    data_list = list(file_data)\n",
    "for row in data_list[0]:\n",
    "    print(row)"
   ]
  },
  {
   "cell_type": "markdown",
   "metadata": {},
   "source": [
    "# To print a specific column from a dataframe"
   ]
  },
  {
   "cell_type": "code",
   "execution_count": 32,
   "metadata": {},
   "outputs": [
    {
     "name": "stdout",
     "output_type": "stream",
     "text": [
      "Afghanistan\n",
      "Sudan\n",
      "Democratic Republic of the Congo\n",
      "Democratic Republic of the Congo\n",
      "Turkey\n",
      "Syria\n",
      "Pakistan\n",
      "Italy\n",
      "Turkey\n",
      "Turkey\n"
     ]
    }
   ],
   "source": [
    "import pandas as pd\n",
    "df = pd.read_csv('year2017.csv')\n",
    "for i in df['Country'].head(10):\n",
    "    print(i)"
   ]
  },
  {
   "cell_type": "markdown",
   "metadata": {},
   "source": [
    "# calculating the sum of a column of dataframe"
   ]
  },
  {
   "cell_type": "code",
   "execution_count": 55,
   "metadata": {},
   "outputs": [
    {
     "data": {
      "text/plain": [
       "24927"
      ]
     },
     "execution_count": 55,
     "metadata": {},
     "output_type": "execute_result"
    }
   ],
   "source": [
    "import pandas as pd\n",
    "df = pd.read_csv('year2017.csv')\n",
    "df['Wounded'] =df['Wounded'].fillna(0)\n",
    "count = int(df['Wounded'].sum())\n",
    "count"
   ]
  },
  {
   "cell_type": "markdown",
   "metadata": {},
   "source": [
    "# particular country"
   ]
  },
  {
   "cell_type": "code",
   "execution_count": 57,
   "metadata": {},
   "outputs": [
    {
     "data": {
      "text/plain": [
       "702"
      ]
     },
     "execution_count": 57,
     "metadata": {},
     "output_type": "execute_result"
    }
   ],
   "source": [
    "import pandas as pd\n",
    "df = pd.read_csv('year2017.csv')\n",
    "df_india = df[df['Country'] == 'India']\n",
    "count = int(df_india['Wounded'].sum())\n",
    "count"
   ]
  },
  {
   "cell_type": "markdown",
   "metadata": {},
   "source": [
    "# Casualities from explosives"
   ]
  },
  {
   "cell_type": "code",
   "execution_count": 1,
   "metadata": {},
   "outputs": [
    {
     "data": {
      "text/plain": [
       "29280"
      ]
     },
     "execution_count": 1,
     "metadata": {},
     "output_type": "execute_result"
    }
   ],
   "source": [
    "import pandas as pd\n",
    "df = pd.read_csv('year2017.csv')\n",
    "df_explosives = df[df['Weapon_type'] == 'Explosives']\n",
    "count = int(df_explosives['casualities'].sum())\n",
    "count"
   ]
  },
  {
   "cell_type": "code",
   "execution_count": 4,
   "metadata": {},
   "outputs": [
    {
     "name": "stdout",
     "output_type": "stream",
     "text": [
      "29280\n"
     ]
    }
   ],
   "source": [
    "# using csv format\n",
    "import csv\n",
    "with open('year2017.csv') as inputFile:\n",
    "    fileData = csv.DictReader(inputFile, skipinitialspace = True)\n",
    "\n",
    "    count = 0   \n",
    "    for row in fileData:\n",
    "        if row['Weapon_type'] == 'Explosives' and row['casualities'] != '':\n",
    "            count += float(row['casualities'])\n",
    "        \n",
    "                \n",
    "    print(int(count))"
   ]
  },
  {
   "cell_type": "markdown",
   "metadata": {},
   "source": [
    "# month vs killed"
   ]
  },
  {
   "cell_type": "code",
   "execution_count": 10,
   "metadata": {},
   "outputs": [
    {
     "name": "stdout",
     "output_type": "stream",
     "text": [
      "{'1': 2275, '2': 2027, '3': 2463, '4': 2142, '5': 2936, '6': 2506, '7': 2228, '8': 2145, '9': 1764, '10': 2580, '11': 2014, '12': 1365}\n"
     ]
    }
   ],
   "source": [
    "import csv\n",
    "with open('year2017.csv') as file_obj:\n",
    "    file_data = csv.DictReader(file_obj, skipinitialspace = True)\n",
    "    file_list = list(file_data)\n",
    "    \n",
    "    month_killed = {}\n",
    "    for row in file_list:\n",
    "        key = row['Month']\n",
    "        value = row['Killed']\n",
    "        \n",
    "        if value != '':\n",
    "            value = int(float(value))\n",
    "        else:\n",
    "            value = 0\n",
    "        \n",
    "            \n",
    "        if key in month_killed:\n",
    "            month_killed[key] += value\n",
    "        else:\n",
    "            month_killed[key] = value\n",
    "        \n",
    "    print(month_killed)\n",
    "        "
   ]
  },
  {
   "cell_type": "code",
   "execution_count": 17,
   "metadata": {},
   "outputs": [
    {
     "name": "stdout",
     "output_type": "stream",
     "text": [
      "{'Afghanistan': 11698, 'Sudan': 255, 'Democratic Republic of the Congo': 636, 'Turkey': 548, 'Syria': 2731, 'Pakistan': 3153, 'Italy': 8, 'Somalia': 3038, 'Yemen': 1446, 'Bahrain': 32, 'Myanmar': 85, 'Burundi': 147, 'Iraq': 10999, 'Egypt': 1499, 'Burkina Faso': 98, 'India': 1157, 'Algeria': 31, 'United States': 1027, 'Philippines': 1148, 'Greece': 7, 'Mali': 657, 'Libya': 316, 'Central African Republic': 569, 'Nigeria': 2300, 'Lebanon': 66, 'Mexico': 29, 'Cameroon': 448, 'Ethiopia': 80, 'Kyrgyzstan': 0, 'Serbia': 1, 'Sweden': 37, 'Thailand': 342, 'Iran': 106, 'France': 35, 'United Kingdom': 343, 'West Bank and Gaza Strip': 125, 'Ukraine': 104, 'Paraguay': 5, 'Colombia': 188, 'Malaysia': 6, 'Russia': 175, 'Kosovo': 4, 'South Africa': 28, 'Chile': 2, 'Kenya': 204, 'Israel': 18, 'Saudi Arabia': 100, 'China': 92, 'Nepal': 97, 'Ecuador': 0, 'Niger': 210, 'Venezuela': 37, 'South Sudan': 836, 'Canada': 31, 'Bangladesh': 97, 'Tajikistan': 1, 'Angola': 416, 'Ireland': 0, 'Peru': 12, 'Dominican Republic': 3, 'Poland': 0, 'Jordan': 5, 'Azerbaijan': 7, 'Mozambique': 33, 'Indonesia': 47, 'Germany': 11, 'Brazil': 0, 'Macedonia': 0, 'Tunisia': 10, 'Uganda': 9, 'Chad': 2, 'Finland': 12, 'Australia': 25, 'Norway': 0, 'Vietnam': 0, 'Tanzania': 10, 'Sierra Leone': 0, 'Sri Lanka': 4, 'Maldives': 1, 'Belgium': 4, 'Rwanda': 10, 'Honduras': 2, 'Czech Republic': 0, 'Malta': 1, 'Gabon': 2, 'Laos': 1, 'Djibouti': 0, 'Austria': 2, 'Zambia': 0, 'Argentina': 0, 'Papua New Guinea': 3, 'Zimbabwe': 1, 'Ivory Coast': 5, 'Spain': 132, 'Taiwan': 1, 'Jamaica': 0, 'Albania': 0, 'Liberia': 0, 'Georgia': 5, 'Malawi': 0, 'Netherlands': 0, 'Latvia': 0}\n"
     ]
    }
   ],
   "source": [
    "import csv\n",
    "with open('year2017.csv') as file_obj:\n",
    "    file_data = csv.DictReader(file_obj, skipinitialspace = True)\n",
    "    data_list = list(file_data)\n",
    "    \n",
    "    casual_country = {}\n",
    "    for row in data_list:\n",
    "        key = row['Country']\n",
    "        value = row['casualities']\n",
    "        \n",
    "        if value != '':\n",
    "            value = int(float(value))\n",
    "        else:\n",
    "            value = 0\n",
    "            \n",
    "        if key in casual_country:\n",
    "            casual_country[key] += value\n",
    "        else:\n",
    "            casual_country[key] = value\n",
    "    \n",
    "    print(casual_country)"
   ]
  },
  {
   "cell_type": "code",
   "execution_count": null,
   "metadata": {},
   "outputs": [],
   "source": []
  }
 ],
 "metadata": {
  "kernelspec": {
   "display_name": "Python 3",
   "language": "python",
   "name": "python3"
  },
  "language_info": {
   "codemirror_mode": {
    "name": "ipython",
    "version": 3
   },
   "file_extension": ".py",
   "mimetype": "text/x-python",
   "name": "python",
   "nbconvert_exporter": "python",
   "pygments_lexer": "ipython3",
   "version": "3.7.4"
  }
 },
 "nbformat": 4,
 "nbformat_minor": 2
}
